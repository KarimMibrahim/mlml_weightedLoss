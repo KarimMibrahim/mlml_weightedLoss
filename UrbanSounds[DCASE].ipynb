{
 "cells": [
  {
   "cell_type": "code",
   "execution_count": 1,
   "metadata": {},
   "outputs": [],
   "source": [
    "#imports\n",
    "import numpy as np \n",
    "import os\n",
    "import scipy\n",
    "from scipy.io import loadmat\n",
    "import pandas as pd\n",
    "import tensorflow as tf \n",
    "from sklearn.metrics import accuracy_score, precision_score, recall_score, roc_auc_score, f1_score, cohen_kappa_score, hamming_loss, zero_one_loss, coverage_error, average_precision_score\n",
    "from sklearn.model_selection import train_test_split\n",
    "import random \n",
    "import matplotlib.pyplot as plt\n",
    "from time import strftime, localtime\n",
    "from sklearn.model_selection import KFold\n",
    "random.seed = 11\n",
    "\n",
    "import warnings\n",
    "warnings.filterwarnings('ignore')"
   ]
  },
  {
   "cell_type": "code",
   "execution_count": 2,
   "metadata": {},
   "outputs": [],
   "source": [
    "labels = pd.read_csv(\"/home/karim/Documents/research/MLMLdatasets/DCASEdatasets/urbanSounds/annotations.csv\")"
   ]
  },
  {
   "cell_type": "code",
   "execution_count": 4,
   "metadata": {
    "scrolled": true
   },
   "outputs": [
    {
     "data": {
      "text/plain": [
       "Index(['split', 'sensor_id', 'audio_filename', 'annotator_id',\n",
       "       '1-1_small-sounding-engine_presence',\n",
       "       '1-2_medium-sounding-engine_presence',\n",
       "       '1-3_large-sounding-engine_presence',\n",
       "       '1-X_engine-of-uncertain-size_presence', '2-1_rock-drill_presence',\n",
       "       '2-2_jackhammer_presence', '2-3_hoe-ram_presence',\n",
       "       '2-4_pile-driver_presence',\n",
       "       '2-X_other-unknown-impact-machinery_presence',\n",
       "       '3-1_non-machinery-impact_presence', '4-1_chainsaw_presence',\n",
       "       '4-2_small-medium-rotating-saw_presence',\n",
       "       '4-3_large-rotating-saw_presence',\n",
       "       '4-X_other-unknown-powered-saw_presence', '5-1_car-horn_presence',\n",
       "       '5-2_car-alarm_presence', '5-3_siren_presence',\n",
       "       '5-4_reverse-beeper_presence',\n",
       "       '5-X_other-unknown-alert-signal_presence',\n",
       "       '6-1_stationary-music_presence', '6-2_mobile-music_presence',\n",
       "       '6-3_ice-cream-truck_presence',\n",
       "       '6-X_music-from-uncertain-source_presence',\n",
       "       '7-1_person-or-small-group-talking_presence',\n",
       "       '7-2_person-or-small-group-shouting_presence',\n",
       "       '7-3_large-crowd_presence', '7-4_amplified-speech_presence',\n",
       "       '7-X_other-unknown-human-voice_presence',\n",
       "       '8-1_dog-barking-whining_presence',\n",
       "       '1-1_small-sounding-engine_proximity',\n",
       "       '1-2_medium-sounding-engine_proximity',\n",
       "       '1-3_large-sounding-engine_proximity',\n",
       "       '1-X_engine-of-uncertain-size_proximity', '2-1_rock-drill_proximity',\n",
       "       '2-2_jackhammer_proximity', '2-3_hoe-ram_proximity',\n",
       "       '2-4_pile-driver_proximity',\n",
       "       '2-X_other-unknown-impact-machinery_proximity',\n",
       "       '3-1_non-machinery-impact_proximity', '4-1_chainsaw_proximity',\n",
       "       '4-2_small-medium-rotating-saw_proximity',\n",
       "       '4-3_large-rotating-saw_proximity',\n",
       "       '4-X_other-unknown-powered-saw_proximity', '5-1_car-horn_proximity',\n",
       "       '5-2_car-alarm_proximity', '5-3_siren_proximity',\n",
       "       '5-4_reverse-beeper_proximity',\n",
       "       '5-X_other-unknown-alert-signal_proximity',\n",
       "       '6-1_stationary-music_proximity', '6-2_mobile-music_proximity',\n",
       "       '6-3_ice-cream-truck_proximity',\n",
       "       '6-X_music-from-uncertain-source_proximity',\n",
       "       '7-1_person-or-small-group-talking_proximity',\n",
       "       '7-2_person-or-small-group-shouting_proximity',\n",
       "       '7-3_large-crowd_proximity', '7-4_amplified-speech_proximity',\n",
       "       '7-X_other-unknown-human-voice_proximity',\n",
       "       '8-1_dog-barking-whining_proximity', '1_engine_presence',\n",
       "       '2_machinery-impact_presence', '3_non-machinery-impact_presence',\n",
       "       '4_powered-saw_presence', '5_alert-signal_presence', '6_music_presence',\n",
       "       '7_human-voice_presence', '8_dog_presence'],\n",
       "      dtype='object')"
      ]
     },
     "execution_count": 4,
     "metadata": {},
     "output_type": "execute_result"
    }
   ],
   "source": [
    "labels.columns"
   ]
  },
  {
   "cell_type": "code",
   "execution_count": 67,
   "metadata": {},
   "outputs": [],
   "source": [
    "major_labels = labels[['audio_filename', '1_engine_presence',\n",
    "       '2_machinery-impact_presence', '3_non-machinery-impact_presence',\n",
    "       '4_powered-saw_presence', '5_alert-signal_presence', '6_music_presence',\n",
    "       '7_human-voice_presence', '8_dog_presence']]"
   ]
  },
  {
   "cell_type": "code",
   "execution_count": 68,
   "metadata": {},
   "outputs": [],
   "source": [
    "# replacing the missing values of (-1) with nan\n",
    "major_labels = major_labels.replace(-1,np.nan)\n",
    "# Compute the mean of the annotations, we wil include only ones that fulle agree, i.e. mean == 1\n",
    "filtered_major_labels = major_labels.groupby('audio_filename').mean()\n",
    "filtered_major_labels[filtered_major_labels < 1] = 0 "
   ]
  },
  {
   "cell_type": "code",
   "execution_count": 70,
   "metadata": {},
   "outputs": [
    {
     "name": "stdout",
     "output_type": "stream",
     "text": [
      "number of samples with no labels due to no full agreement between annotators is 2169\n"
     ]
    }
   ],
   "source": [
    "# the number of samples with labels that are don't fully agree  is quite high! \n",
    "# 2169 are not fully agreed on\n",
    "print('number of samples with no labels due to no full agreement between annotators is',\n",
    "      (filtered_major_labels.sum(axis =1) == 0).sum())"
   ]
  },
  {
   "cell_type": "code",
   "execution_count": 89,
   "metadata": {},
   "outputs": [
    {
     "name": "stdout",
     "output_type": "stream",
     "text": [
      "number of samples with no labels due to less than 50% agreement is 787\n",
      "number of samples left after sampling is 2281\n"
     ]
    }
   ],
   "source": [
    "# We replace the hard limit to at least half the annotators agree on it, i.e. mean = 0.5\n",
    "filtered_major_labels = major_labels.groupby('audio_filename').mean()\n",
    "filtered_major_labels[filtered_major_labels < 0.5] = 0 \n",
    "# 787 are not half agreed on, we will ignore them for the sake of having confidence in the labels\n",
    "(filtered_major_labels.sum(axis =1) == 0).sum()\n",
    "print('number of samples with no labels due to less than 50% agreement is',\n",
    "      (filtered_major_labels.sum(axis =1) == 0).sum())\n",
    "print('number of samples left after sampling is',\n",
    "      (filtered_major_labels.sum(axis =1) != 0).sum())"
   ]
  },
  {
   "cell_type": "code",
   "execution_count": 83,
   "metadata": {
    "scrolled": true
   },
   "outputs": [
    {
     "name": "stdout",
     "output_type": "stream",
     "text": [
      "Average nmber of labels per sample 1.25\n",
      "So lowww\n"
     ]
    }
   ],
   "source": [
    "filtered_major_labels = filtered_major_labels[filtered_major_labels.sum(axis =1) != 0]\n",
    "# replace values between 0.5 and 1 with 1\n",
    "filtered_major_labels[filtered_major_labels != 0] = 1 \n",
    "print('Average nmber of labels per sample {:.2f}'.format(filtered_major_labels.sum(axis=1).mean()))\n",
    "print('So lowww')"
   ]
  },
  {
   "cell_type": "code",
   "execution_count": null,
   "metadata": {},
   "outputs": [],
   "source": []
  },
  {
   "cell_type": "code",
   "execution_count": null,
   "metadata": {},
   "outputs": [],
   "source": []
  }
 ],
 "metadata": {
  "kernelspec": {
   "display_name": "Python 3",
   "language": "python",
   "name": "python3"
  },
  "language_info": {
   "codemirror_mode": {
    "name": "ipython",
    "version": 3
   },
   "file_extension": ".py",
   "mimetype": "text/x-python",
   "name": "python",
   "nbconvert_exporter": "python",
   "pygments_lexer": "ipython3",
   "version": "3.5.2"
  }
 },
 "nbformat": 4,
 "nbformat_minor": 2
}
